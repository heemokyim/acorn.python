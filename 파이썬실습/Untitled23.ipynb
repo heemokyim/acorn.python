{
 "cells": [
  {
   "cell_type": "code",
   "execution_count": 1,
   "metadata": {},
   "outputs": [],
   "source": [
    "from bs4 import BeautifulSoup"
   ]
  },
  {
   "cell_type": "code",
   "execution_count": 7,
   "metadata": {},
   "outputs": [
    {
     "name": "stdout",
     "output_type": "stream",
     "text": [
      "스크레이핑?\n",
      "웹 페이지를 분석하는 것\n",
      "원하는 부분을 추출하는 것 \n",
      "#title=스크레이핑?\n",
      "#body=웹 페이지를 분석하는 것\n"
     ]
    }
   ],
   "source": [
    "html =\"\"\"\n",
    "<html>\n",
    "    <head></head>\n",
    "    <body>\n",
    "        <h1 id=\"title\">스크레이핑?</h1>\n",
    "        <p id=\"body\">웹 페이지를 분석하는 것</p>\n",
    "        <p>원하는 부분을 추출하는 것 </p>\n",
    "    </body>\n",
    "</html>\n",
    "\"\"\"\n",
    "soup=BeautifulSoup(html,'html.parser')\n",
    "h1=soup.html.body.h1\n",
    "p1=soup.html.body.p\n",
    "p2=p1.next_sibling.next_sibling\n",
    "print(h1.string)\n",
    "print(p.string)\n",
    "print(p2.string)\n",
    "\n",
    "title = soup.find(id=\"title\")\n",
    "body = soup.find(id=\"body\")\n",
    "print(\"#title=\" + title.string)\n",
    "print(\"#body=\" + body.string)"
   ]
  },
  {
   "cell_type": "code",
   "execution_count": null,
   "metadata": {},
   "outputs": [],
   "source": []
  }
 ],
 "metadata": {
  "kernelspec": {
   "display_name": "Python 3",
   "language": "python",
   "name": "python3"
  },
  "language_info": {
   "codemirror_mode": {
    "name": "ipython",
    "version": 3
   },
   "file_extension": ".py",
   "mimetype": "text/x-python",
   "name": "python",
   "nbconvert_exporter": "python",
   "pygments_lexer": "ipython3",
   "version": "3.6.4"
  }
 },
 "nbformat": 4,
 "nbformat_minor": 2
}
