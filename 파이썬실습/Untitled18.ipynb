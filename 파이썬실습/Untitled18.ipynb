{
 "cells": [
  {
   "cell_type": "code",
   "execution_count": 1,
   "metadata": {},
   "outputs": [
    {
     "name": "stdout",
     "output_type": "stream",
     "text": [
      "Collecting Request\n",
      "  Downloading https://files.pythonhosted.org/packages/f3/73/e72e0b5e771ca4dbd48fbef81ddca96fcaa98153f401d797e6682b8cec65/request-1.0.1.tar.gz\n",
      "Collecting get (from Request)\n",
      "  Downloading https://files.pythonhosted.org/packages/65/e5/5fc6b9bdeb11a94fc2cd1c761ab8b81b590ca831517a223edf7285903d34/get-1.0.2.tar.gz\n",
      "Collecting post (from Request)\n",
      "  Downloading https://files.pythonhosted.org/packages/3b/e4/dcf3750dc9bd4cbb7e04933109219295dd9e6f6b9e51e3baf76be0091a54/post-1.0.1.tar.gz\n",
      "Requirement already satisfied: setuptools in c:\\users\\acorn\\appdata\\local\\conda\\conda\\envs\\xgboost\\lib\\site-packages (from Request)\n",
      "Collecting query_string (from get->Request)\n",
      "  Downloading https://files.pythonhosted.org/packages/e7/3d/ba02d224ca7df8c12ef6d894cb97d5eea0a11bf0beacac3aa3681927ce82/query_string-1.0.1.tar.gz\n",
      "Collecting public (from query_string->get->Request)\n",
      "  Downloading https://files.pythonhosted.org/packages/61/ac/07923bf05f6630fe9c44cf8c29643f87a86458ef38cb336e0c671c0db4e0/public-1.0.2.tar.gz\n",
      "Building wheels for collected packages: Request, get, post, query-string, public\n",
      "  Running setup.py bdist_wheel for Request: started\n",
      "  Running setup.py bdist_wheel for Request: finished with status 'done'\n",
      "  Stored in directory: C:\\Users\\acorn\\AppData\\Local\\pip\\Cache\\wheels\\85\\e5\\f5\\34ee71ff1fd375984eba09d6aad563a6bb5912f0639b7f1af4\n",
      "  Running setup.py bdist_wheel for get: started\n",
      "  Running setup.py bdist_wheel for get: finished with status 'done'\n",
      "  Stored in directory: C:\\Users\\acorn\\AppData\\Local\\pip\\Cache\\wheels\\c4\\a7\\06\\00fa9ec8a0fdf555f5432f91f738d37c55280175e1cd46a77e\n",
      "  Running setup.py bdist_wheel for post: started\n",
      "  Running setup.py bdist_wheel for post: finished with status 'done'\n",
      "  Stored in directory: C:\\Users\\acorn\\AppData\\Local\\pip\\Cache\\wheels\\15\\a9\\c1\\42bfa000a5184863f31df0b881280d7d113e7f54f89f6634a2\n",
      "  Running setup.py bdist_wheel for query-string: started\n",
      "  Running setup.py bdist_wheel for query-string: finished with status 'done'\n",
      "  Stored in directory: C:\\Users\\acorn\\AppData\\Local\\pip\\Cache\\wheels\\5f\\f6\\7c\\6d4c06b8fe517fe986c93d18f8bb6fa38a7a699d84762de9f5\n",
      "  Running setup.py bdist_wheel for public: started\n",
      "  Running setup.py bdist_wheel for public: finished with status 'done'\n",
      "  Stored in directory: C:\\Users\\acorn\\AppData\\Local\\pip\\Cache\\wheels\\0e\\46\\9e\\abf121a40c7645bc752d82313b812b7bf43fff2a65a1038cb0\n",
      "Successfully built Request get post query-string public\n",
      "Installing collected packages: public, query-string, get, post, Request\n",
      "Successfully installed Request-1.0.1 get-1.0.2 post-1.0.1 public-1.0.2 query-string-1.0.1\n"
     ]
    },
    {
     "name": "stderr",
     "output_type": "stream",
     "text": [
      "You are using pip version 9.0.1, however version 10.0.1 is available.\n",
      "You should consider upgrading via the 'python -m pip install --upgrade pip' command.\n"
     ]
    },
    {
     "name": "stdout",
     "output_type": "stream",
     "text": [
      "Collecting urlopen\n",
      "  Downloading https://files.pythonhosted.org/packages/92/07/162055ea1a91f7b88ae77d1b72e1e8bff7348ec01359d014f960e8506651/urlopen-1.0.0.zip\n",
      "Building wheels for collected packages: urlopen\n",
      "  Running setup.py bdist_wheel for urlopen: started\n",
      "  Running setup.py bdist_wheel for urlopen: finished with status 'done'\n",
      "  Stored in directory: C:\\Users\\acorn\\AppData\\Local\\pip\\Cache\\wheels\\1e\\3e\\86\\70a25feebbfcbde0fbb2defe9e0610ba44aa32217fc4a53060\n",
      "Successfully built urlopen\n",
      "Installing collected packages: urlopen\n",
      "Successfully installed urlopen-1.0.0\n"
     ]
    },
    {
     "name": "stderr",
     "output_type": "stream",
     "text": [
      "You are using pip version 9.0.1, however version 10.0.1 is available.\n",
      "You should consider upgrading via the 'python -m pip install --upgrade pip' command.\n"
     ]
    },
    {
     "name": "stdout",
     "output_type": "stream",
     "text": [
      "Collecting urlencode\n"
     ]
    },
    {
     "name": "stderr",
     "output_type": "stream",
     "text": [
      "  Could not find a version that satisfies the requirement urlencode (from versions: )\n",
      "No matching distribution found for urlencode\n",
      "You are using pip version 9.0.1, however version 10.0.1 is available.\n",
      "You should consider upgrading via the 'python -m pip install --upgrade pip' command.\n"
     ]
    },
    {
     "name": "stdout",
     "output_type": "stream",
     "text": [
      "Collecting quote_plus\n"
     ]
    },
    {
     "name": "stderr",
     "output_type": "stream",
     "text": [
      "  Could not find a version that satisfies the requirement quote_plus (from versions: )\n",
      "No matching distribution found for quote_plus\n",
      "You are using pip version 9.0.1, however version 10.0.1 is available.\n",
      "You should consider upgrading via the 'python -m pip install --upgrade pip' command.\n"
     ]
    },
    {
     "ename": "ModuleNotFoundError",
     "evalue": "No module named 'urllib2'",
     "output_type": "error",
     "traceback": [
      "\u001b[1;31m---------------------------------------------------------------------------\u001b[0m",
      "\u001b[1;31mModuleNotFoundError\u001b[0m                       Traceback (most recent call last)",
      "\u001b[1;32m<ipython-input-1-b2e7ddb71b1d>\u001b[0m in \u001b[0;36m<module>\u001b[1;34m()\u001b[0m\n\u001b[0;32m      3\u001b[0m \u001b[0mget_ipython\u001b[0m\u001b[1;33m(\u001b[0m\u001b[1;33m)\u001b[0m\u001b[1;33m.\u001b[0m\u001b[0msystem\u001b[0m\u001b[1;33m(\u001b[0m\u001b[1;34m'pip install urlencode'\u001b[0m\u001b[1;33m)\u001b[0m\u001b[1;33m\u001b[0m\u001b[0m\n\u001b[0;32m      4\u001b[0m \u001b[0mget_ipython\u001b[0m\u001b[1;33m(\u001b[0m\u001b[1;33m)\u001b[0m\u001b[1;33m.\u001b[0m\u001b[0msystem\u001b[0m\u001b[1;33m(\u001b[0m\u001b[1;34m'pip install quote_plus'\u001b[0m\u001b[1;33m)\u001b[0m\u001b[1;33m\u001b[0m\u001b[0m\n\u001b[1;32m----> 5\u001b[1;33m \u001b[1;32mfrom\u001b[0m \u001b[0murllib2\u001b[0m \u001b[1;32mimport\u001b[0m \u001b[0mRequest\u001b[0m\u001b[1;33m,\u001b[0m \u001b[0murlopen\u001b[0m\u001b[1;33m\u001b[0m\u001b[0m\n\u001b[0m\u001b[0;32m      6\u001b[0m \u001b[1;32mfrom\u001b[0m \u001b[0murllib\u001b[0m \u001b[1;32mimport\u001b[0m \u001b[0murlencode\u001b[0m\u001b[1;33m,\u001b[0m \u001b[0mquote_plus\u001b[0m\u001b[1;33m\u001b[0m\u001b[0m\n\u001b[0;32m      7\u001b[0m \u001b[1;33m\u001b[0m\u001b[0m\n",
      "\u001b[1;31mModuleNotFoundError\u001b[0m: No module named 'urllib2'"
     ]
    }
   ],
   "source": [
    "!pip install Request\n",
    "!pip install urlopen\n",
    "!pip install urlencode\n",
    "!pip install quote_plus\n",
    "from urllib2 import Request, urlopen\n",
    "from urllib import urlencode, quote_plus\n",
    "\n",
    "url = 'http://apis.data.go.kr/1192000/openapi/service/ManageExpItemService/getExpItemList '"
   ]
  },
  {
   "cell_type": "code",
   "execution_count": null,
   "metadata": {},
   "outputs": [],
   "source": []
  }
 ],
 "metadata": {
  "kernelspec": {
   "display_name": "Python 3",
   "language": "python",
   "name": "python3"
  },
  "language_info": {
   "codemirror_mode": {
    "name": "ipython",
    "version": 3
   },
   "file_extension": ".py",
   "mimetype": "text/x-python",
   "name": "python",
   "nbconvert_exporter": "python",
   "pygments_lexer": "ipython3",
   "version": "3.6.4"
  }
 },
 "nbformat": 4,
 "nbformat_minor": 2
}
