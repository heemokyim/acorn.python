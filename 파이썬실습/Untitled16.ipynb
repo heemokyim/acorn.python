{
 "cells": [
  {
   "cell_type": "code",
   "execution_count": 1,
   "metadata": {},
   "outputs": [
    {
     "name": "stdout",
     "output_type": "stream",
     "text": [
      "Player\n"
     ]
    }
   ],
   "source": [
    "class Player:\n",
    "    #속성\n",
    "    myshape=\"Player\"\n",
    "    #메소드\n",
    "    def __init__(self):\n",
    "        self.x=random(100)\n",
    "        self.y=random(100)\n",
    "    \n",
    "    def display(self):\n",
    "        print(self.myshape, \":\",self.x,\".\",self.y)\n",
    "pobj = Player()\n",
    "pobj.display()\n",
    "\n",
    "pobj2 = Player()\n",
    "pobj2.display()"
   ]
  },
  {
   "cell_type": "code",
   "execution_count": 2,
   "metadata": {},
   "outputs": [],
   "source": [
    "class Calculator:\n",
    "    def __init__(self):\n",
    "        self.result = 0\n",
    "    def adder(self, num):\n",
    "        self.result += num\n",
    "        return self.result\n",
    "    def mul(self, num):\n",
    "        self.result +=num\n",
    "        return self.result\n",
    "    \n",
    "call = Calculator()\n",
    "print(call.adder(3))"
   ]
  },
  {
   "cell_type": "code",
   "execution_count": null,
   "metadata": {},
   "outputs": [],
   "source": []
  }
 ],
 "metadata": {
  "kernelspec": {
   "display_name": "Python 3",
   "language": "python",
   "name": "python3"
  },
  "language_info": {
   "codemirror_mode": {
    "name": "ipython",
    "version": 3
   },
   "file_extension": ".py",
   "mimetype": "text/x-python",
   "name": "python",
   "nbconvert_exporter": "python",
   "pygments_lexer": "ipython3",
   "version": "3.6.4"
  }
 },
 "nbformat": 4,
 "nbformat_minor": 2
}
