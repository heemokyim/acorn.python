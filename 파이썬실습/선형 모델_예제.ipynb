{
 "cells": [
  {
   "cell_type": "code",
   "execution_count": null,
   "metadata": {},
   "outputs": [],
   "source": [
    "# 선형 모델\n",
    "Y= wx + b + w(오차항)\n",
    "회귀식의 데이터가 많아질 경우 정규분포를 따르고,\n",
    "전체 잔차의 합은 정규분포라는 가정하에 0에 가까워지므로 생략한다.\n",
    "기울기는 관계, 절편은 출발점\n",
    "x = 독립변수(feature)\n",
    "y = 종속변수(label)\n",
    "w 와 b가 좋고 나쁨을 평가할 수 있는 지표평가 -> 최소오차제곱(R^2) '=' cost function\n",
    "\n",
    "다항식이 될 경우,\n",
    "stepwise를 이용 = AIC값 (패널티)\n",
    "하지만, 회귀식 과대 적합 문제 발생\n",
    "==> ridge or lasso 회귀분석 (과대적합을 막기 위해 기울기 계수를 \n",
    "                            두루뭉술하게 만들어 가는 과정(0에 가깝게= 영향력을 덜 주게))"
   ]
  },
  {
   "cell_type": "code",
   "execution_count": 2,
   "metadata": {},
   "outputs": [
    {
     "data": {
      "text/plain": [
       "(506, 104)"
      ]
     },
     "execution_count": 2,
     "metadata": {},
     "output_type": "execute_result"
    }
   ],
   "source": [
    "import mglearn\n",
    "from sklearn.model_selection import train_test_split\n",
    "from sklearn.linear_model import LinearRegression\n",
    "\n",
    "X, y = mglearn.datasets.load_extended_boston()\n",
    "X.shape"
   ]
  },
  {
   "cell_type": "code",
   "execution_count": 62,
   "metadata": {},
   "outputs": [
    {
     "name": "stdout",
     "output_type": "stream",
     "text": [
      "[[ 8.92229526 -0.63993225]\n",
      " [ 8.7337095   2.49162431]\n",
      " [ 9.32298256  5.09840649]\n",
      " [ 7.99815287  4.8525051 ]\n",
      " [11.0329545  -0.16816717]\n",
      " [ 9.17748385  5.09283177]\n",
      " [11.563957    1.3389402 ]\n",
      " [ 9.15072323  5.49832246]\n",
      " [ 8.34810316  5.13415623]\n",
      " [11.93027136  4.64866327]\n",
      " [ 8.1062269   4.28695977]\n",
      " [ 8.67494727  4.47573059]\n",
      " [ 9.67284681 -0.20283165]\n",
      " [ 9.50169345  1.93824624]\n",
      " [ 8.69289001  1.54322016]\n",
      " [ 9.96346605  4.59676542]\n",
      " [ 9.50048972 -0.26430318]\n",
      " [ 9.25694192  5.13284858]\n",
      " [ 8.68937095  1.48709629]]\n",
      "[0 0 1 1 0 1 0 1 1 1 0 1 0 0 0 1 0 1 0]\n"
     ]
    }
   ],
   "source": [
    "X_train,X_test,y_train,y_test = train_test_split(X, y, random_state = 0)\n",
    "lr = LinearRegression().fit(X_train,y_train)\n",
    "lr.coef_ #계수 - 컬럼당\n",
    "lr.intercept_ #절편\n",
    "print(X_train)\n",
    "print(y_train)\n"
   ]
  },
  {
   "cell_type": "code",
   "execution_count": 65,
   "metadata": {},
   "outputs": [
    {
     "data": {
      "text/plain": [
       "array([[8.7015376 ],\n",
       "       [3.90825773],\n",
       "       [1.89362433],\n",
       "       [3.28730045],\n",
       "       [7.39333004],\n",
       "       [2.98984649],\n",
       "       [2.2575724 ],\n",
       "       [9.84450732],\n",
       "       [9.94589513],\n",
       "       [5.48321616]])"
      ]
     },
     "execution_count": 65,
     "metadata": {},
     "output_type": "execute_result"
    }
   ],
   "source": [
    "X = [8.70153760, 3.90825773, 1.89362433, 3.28730045, 7.39333004, 2.98984649, 2.25757240, 9.84450732, 9.94589513, 5.48321616]\n",
    "train = np.array(X)\n",
    "train.reshape(-1,1)"
   ]
  },
  {
   "cell_type": "code",
   "execution_count": 13,
   "metadata": {},
   "outputs": [
    {
     "name": "stdout",
     "output_type": "stream",
     "text": [
      "훈련셋 0.952352643686424\n",
      "텟셋 0.605775489293565\n"
     ]
    }
   ],
   "source": [
    "#과적합\n",
    "print(\"훈련셋\",lr.score(X_train,y_train))\n",
    "print(\"텟셋\",lr.score(X_test,y_test))"
   ]
  },
  {
   "cell_type": "code",
   "execution_count": null,
   "metadata": {},
   "outputs": [],
   "source": [
    "## Ridge 회귀분석\n",
    "과대적합을 막는 것 => 규제\n",
    "L2규제를 사용 - alpha를 이용\n",
    "alpha 값을 높이면 규제가 강해지면서 0에 가깝게 = 일반화"
   ]
  },
  {
   "cell_type": "code",
   "execution_count": 33,
   "metadata": {},
   "outputs": [
    {
     "name": "stdout",
     "output_type": "stream",
     "text": [
      "적합도: 0.8860578560395836\n",
      "정확도: 0.7527139600306945\n"
     ]
    },
    {
     "data": {
      "text/plain": [
       "Ridge(alpha=1.0, copy_X=True, fit_intercept=True, max_iter=None,\n",
       "   normalize=False, random_state=None, solver='auto', tol=0.001)"
      ]
     },
     "execution_count": 33,
     "metadata": {},
     "output_type": "execute_result"
    }
   ],
   "source": [
    "from sklearn.linear_model import Ridge\n",
    "ridge=Ridge().fit(X_train,y_train) #alpha 의 디폴트는 1\n",
    "print(\"적합도:\",ridge.score(X_train,y_train))\n",
    "print(\"정확도:\",ridge.score(X_test,y_test))\n",
    "ridge"
   ]
  },
  {
   "cell_type": "code",
   "execution_count": 32,
   "metadata": {},
   "outputs": [
    {
     "name": "stdout",
     "output_type": "stream",
     "text": [
      "적합도: 0.7883461511233251\n",
      "정확도: 0.6358967327447731\n"
     ]
    }
   ],
   "source": [
    "ridge10=Ridge(alpha=10).fit(X_train,y_train)\n",
    "print(\"적합도:\",ridge10.score(X_train,y_train))\n",
    "print(\"정확도:\",ridge10.score(X_test,y_test))"
   ]
  },
  {
   "cell_type": "code",
   "execution_count": 45,
   "metadata": {},
   "outputs": [
    {
     "name": "stdout",
     "output_type": "stream",
     "text": [
      "적합도: 0.9285782082010733\n",
      "정확도: 0.7717933688844973\n"
     ]
    }
   ],
   "source": [
    "ridge01=Ridge(alpha=0.1).fit(X_train,y_train)\n",
    "print(\"적합도:\",ridge01.score(X_train,y_train))\n",
    "print(\"정확도:\",ridge01.score(X_test,y_test))"
   ]
  },
  {
   "cell_type": "code",
   "execution_count": 34,
   "metadata": {},
   "outputs": [],
   "source": [
    "## Lasso 회귀분석"
   ]
  },
  {
   "cell_type": "code",
   "execution_count": 37,
   "metadata": {},
   "outputs": [
    {
     "name": "stdout",
     "output_type": "stream",
     "text": [
      "적합성: 0.29323768991114607\n",
      "정확성: 0.20937503255272294\n",
      "[-0.          0.         -0.          0.         -0.          0.\n",
      " -0.          0.         -0.         -0.         -0.          0.\n",
      " -5.3529079  -0.          0.         -0.          0.         -0.\n",
      " -0.         -0.         -0.         -0.         -0.         -0.\n",
      " -0.         -0.          0.          0.          0.          0.\n",
      "  0.          0.          0.          0.          0.          0.\n",
      "  0.          0.         -0.          0.         -0.         -0.\n",
      " -0.         -0.         -0.         -0.         -0.         -0.\n",
      " -0.          0.          0.          0.          0.          0.\n",
      "  0.          0.          0.          0.         -0.         -0.\n",
      " -0.         -0.         -0.         -0.         -0.         -0.\n",
      " -0.         -0.          0.          0.          0.         -0.\n",
      " -0.         -0.          0.         -0.         -0.          0.\n",
      " -0.         -1.05063037 -3.3104274  -0.         -0.          0.\n",
      " -0.         -0.         -0.          0.         -0.         -0.41386744\n",
      " -0.         -0.         -0.         -0.         -0.         -0.\n",
      " -0.         -0.         -0.         -0.         -0.          0.\n",
      " -0.         -0.        ]\n",
      "사용한 특성의 수 4\n"
     ]
    }
   ],
   "source": [
    "from sklearn.linear_model import Lasso\n",
    "import numpy as np\n",
    "lasso = Lasso().fit(X_train,y_train)\n",
    "print(\"적합성:\", lasso.score(X_train,y_train))\n",
    "print(\"정확성:\", lasso.score(X_test,y_test))\n",
    "print(lasso.coef_)\n",
    "print(\"사용한 특성의 수\", np.sum(lasso.coef_ != 0))"
   ]
  },
  {
   "cell_type": "code",
   "execution_count": 42,
   "metadata": {},
   "outputs": [
    {
     "name": "stdout",
     "output_type": "stream",
     "text": [
      "적합성: 0.896506955975129\n",
      "정확성: 0.7656489887843521\n",
      "[ -0.          -0.          -0.           0.          -0.\n",
      "   0.          -0.          -1.30683918  10.94664016   0.\n",
      "   0.           0.          -0.31532732  -0.          -0.\n",
      "  -0.           0.          -0.          -0.          -0.\n",
      "  -0.          -8.91227147  -0.          -0.          -0.\n",
      "  -0.           2.09533733  -0.           0.          -0.\n",
      "   0.          -0.           0.           0.          -0.\n",
      "   0.          -0.          -0.           0.           0.\n",
      "   0.          -0.           0.          -4.08249984   0.\n",
      "   6.66787706  -0.          -0.          -0.           0.\n",
      "  -4.40104807  -2.10548411   3.77595291  -0.           4.38381849\n",
      "   0.           0.           0.18662246  -0.          -1.17594281\n",
      "  -4.29006257  -0.          -0.          -2.2160665   -0.\n",
      "  -1.8820987   -0.          -0.          29.74050877  -2.08168251\n",
      "   0.         -12.00134952 -11.14786769 -11.66008855  13.11691565\n",
      " -11.15372311  -0.          -0.           3.47562768   0.\n",
      "  -0.          -0.          -8.56630681   0.           0.\n",
      "  -0.           0.          -7.38806253  -0.           0.\n",
      "   1.00758109   0.           0.          -7.590696     1.61168692\n",
      "   0.           0.         -17.43126251   0.           0.\n",
      "  -0.           0.28683048  -8.1576745   17.49647215]\n",
      "사용한 특성의 수 33\n"
     ]
    }
   ],
   "source": [
    "lasso001 = Lasso(alpha=0.01, max_iter=100000).fit(X_train,y_train)\n",
    "print(\"적합성:\", lasso001.score(X_train,y_train))\n",
    "print(\"정확성:\", lasso001.score(X_test,y_test))\n",
    "print(lasso001.coef_)\n",
    "print(\"사용한 특성의 수\", np.sum(lasso001.coef_ != 0))"
   ]
  },
  {
   "cell_type": "code",
   "execution_count": 43,
   "metadata": {},
   "outputs": [
    {
     "name": "stdout",
     "output_type": "stream",
     "text": [
      "적합성: 0.896506955975129\n",
      "정확성: 0.7656489887843521\n",
      "[ -0.          -0.          -0.           0.          -0.\n",
      "   0.          -0.          -1.30683918  10.94664016   0.\n",
      "   0.           0.          -0.31532732  -0.          -0.\n",
      "  -0.           0.          -0.          -0.          -0.\n",
      "  -0.          -8.91227147  -0.          -0.          -0.\n",
      "  -0.           2.09533733  -0.           0.          -0.\n",
      "   0.          -0.           0.           0.          -0.\n",
      "   0.          -0.          -0.           0.           0.\n",
      "   0.          -0.           0.          -4.08249984   0.\n",
      "   6.66787706  -0.          -0.          -0.           0.\n",
      "  -4.40104807  -2.10548411   3.77595291  -0.           4.38381849\n",
      "   0.           0.           0.18662246  -0.          -1.17594281\n",
      "  -4.29006257  -0.          -0.          -2.2160665   -0.\n",
      "  -1.8820987   -0.          -0.          29.74050877  -2.08168251\n",
      "   0.         -12.00134952 -11.14786769 -11.66008855  13.11691565\n",
      " -11.15372311  -0.          -0.           3.47562768   0.\n",
      "  -0.          -0.          -8.56630681   0.           0.\n",
      "  -0.           0.          -7.38806253  -0.           0.\n",
      "   1.00758109   0.           0.          -7.590696     1.61168692\n",
      "   0.           0.         -17.43126251   0.           0.\n",
      "  -0.           0.28683048  -8.1576745   17.49647215]\n",
      "사용한 특성의 수 33\n"
     ]
    }
   ],
   "source": [
    "lasso0001 = Lasso(alpha=0.001, max_iter=100000).fit(X_train,y_train)\n",
    "print(\"적합성:\", lasso001.score(X_train,y_train))\n",
    "print(\"정확성:\", lasso001.score(X_test,y_test))\n",
    "print(lasso001.coef_)\n",
    "print(\"사용한 특성의 수\", np.sum(lasso001.coef_ != 0))"
   ]
  },
  {
   "cell_type": "code",
   "execution_count": 46,
   "metadata": {},
   "outputs": [
    {
     "data": {
      "text/plain": [
       "<matplotlib.legend.Legend at 0xfabdf28>"
      ]
     },
     "execution_count": 46,
     "metadata": {},
     "output_type": "execute_result"
    },
    {
     "data": {
      "image/png": "[encoded data removed]",
      "text/plain": [
       "<matplotlib.figure.Figure at 0xf9cc6a0>"
      ]
     },
     "metadata": {},
     "output_type": "display_data"
    }
   ],
   "source": [
    "import matplotlib.pyplot as plt\n",
    "plt.plot(lasso.coef_, 's', label=\"Lasso alpha=1\")\n",
    "plt.plot(lasso001.coef_, '^', label=\"Lasso alpha=0.01\")\n",
    "plt.plot(lasso0001.coef_, 'v', label=\"Lasso alpha=0.0001\")\n",
    "\n",
    "plt.plot(ridge01.coef_, 'o', label=\"Ridge alpha=0.1\")\n",
    "plt.legend(ncol=2, loc=(0,1.05))"
   ]
  },
  {
   "cell_type": "code",
   "execution_count": 47,
   "metadata": {},
   "outputs": [],
   "source": [
    "## 로지스틱 회귀분석"
   ]
  },
  {
   "cell_type": "code",
   "execution_count": 50,
   "metadata": {},
   "outputs": [
    {
     "data": {
      "image/png": "[encoded data removed]",
      "text/plain": [
       "<matplotlib.figure.Figure at 0xf6cdfd0>"
      ]
     },
     "metadata": {},
     "output_type": "display_data"
    }
   ],
   "source": [
    "from sklearn.linear_model import LogisticRegression\n",
    "from sklearn.svm import LinearSVC\n",
    "\n",
    "X, y = mglearn.datasets.make_forge()\n",
    "\n",
    "fig, axes = plt.subplots(1, 2, figsize =(10, 3))\n",
    "\n",
    "for model, ax in zip([LinearSVC(), LogisticRegression()], axes):\n",
    "    clf = model.fit(X,y)\n",
    "    mglearn.plots.plot_2d_separator(clf, X, fill=False, eps=0.5,\n",
    "                                    ax=ax, alpha=.7)\n",
    "    mglearn.discrete_scatter(X[:,0], X[:,1], y, ax=ax)\n"
   ]
  },
  {
   "cell_type": "code",
   "execution_count": 54,
   "metadata": {},
   "outputs": [
    {
     "data": {
      "image/png": "[encoded data removed]",
      "text/plain": [
       "<matplotlib.figure.Figure at 0xcbf5710>"
      ]
     },
     "metadata": {},
     "output_type": "display_data"
    }
   ],
   "source": [
    "mglearn.plots.plot_linear_svc_regularization()"
   ]
  },
  {
   "cell_type": "code",
   "execution_count": 57,
   "metadata": {},
   "outputs": [
    {
     "name": "stdout",
     "output_type": "stream",
     "text": [
      "훈련 셋 점수: 0.9553990610328639\n"
     ]
    }
   ],
   "source": [
    "from sklearn.datasets import load_breast_cancer\n",
    "\n",
    "cancer = load_breast_cancer()\n",
    "X_train,X_test,y_train,y_test = train_test_split(cancer.data, cancer.target, stratify = cancer.target,\n",
    "                                                random_state=42)\n",
    "logreg = LogisticRegression().fit(X_train,y_train)\n",
    "print('훈련 셋 점수:', logreg.score(X_train,y_train))"
   ]
  },
  {
   "cell_type": "code",
   "execution_count": 58,
   "metadata": {},
   "outputs": [
    {
     "name": "stdout",
     "output_type": "stream",
     "text": [
      "훈련 셋 점수: 0.971830985915493\n",
      "텟 셋 점수: 0.965034965034965\n"
     ]
    }
   ],
   "source": [
    "# 여기서 C가 알파같은 의미를 가진다 cost 낮을 수록 규제를 강화한다.\n",
    "logreg100 = LogisticRegression(C=100).fit(X_train,y_train)\n",
    "print('훈련 셋 점수:', logreg100.score(X_train,y_train))\n",
    "print('텟 셋 점수:', logreg100.score(X_test,y_test))"
   ]
  },
  {
   "cell_type": "code",
   "execution_count": 59,
   "metadata": {},
   "outputs": [
    {
     "name": "stdout",
     "output_type": "stream",
     "text": [
      "훈련 셋 점수: 0.9342723004694836\n",
      "텟 셋 점수: 0.9300699300699301\n"
     ]
    }
   ],
   "source": [
    "logreg01 = LogisticRegression(C=0.01).fit(X_train,y_train)\n",
    "print('훈련 셋 점수:', logreg01.score(X_train,y_train))\n",
    "print('텟 셋 점수:', logreg01.score(X_test,y_test))"
   ]
  },
  {
   "cell_type": "code",
   "execution_count": 60,
   "metadata": {},
   "outputs": [
    {
     "data": {
      "text/plain": [
       "<matplotlib.collections.LineCollection at 0xffe1c88>"
      ]
     },
     "execution_count": 60,
     "metadata": {},
     "output_type": "execute_result"
    },
    {
     "data": {
      "image/png": "[encoded data removed]",
      "text/plain": [
       "<matplotlib.figure.Figure at 0x106bab00>"
      ]
     },
     "metadata": {},
     "output_type": "display_data"
    }
   ],
   "source": [
    "plt.plot(logreg.coef_, 'o', label=\"c=1\")\n",
    "plt.plot(logreg100.coef_, '^', label=\"c=100\")\n",
    "plt.plot(logreg01.coef_, 'v', label=\"c=0.001\")\n",
    "plt.xticks(range(cancer.data.shape[1]), cancer.feature_names, rotation=90)\n",
    "plt.hlines(0,0, cancer.data.shape[1])\n"
   ]
  },
  {
   "cell_type": "code",
   "execution_count": null,
   "metadata": {},
   "outputs": [],
   "source": []
  }
 ],
 "metadata": {
  "kernelspec": {
   "display_name": "Python 3",
   "language": "python",
   "name": "python3"
  },
  "language_info": {
   "codemirror_mode": {
    "name": "ipython",
    "version": 3
   },
   "file_extension": ".py",
   "mimetype": "text/x-python",
   "name": "python",
   "nbconvert_exporter": "python",
   "pygments_lexer": "ipython3",
   "version": "3.6.4"
  }
 },
 "nbformat": 4,
 "nbformat_minor": 2
}
