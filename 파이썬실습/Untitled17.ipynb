{
 "cells": [
  {
   "cell_type": "code",
   "execution_count": 1,
   "metadata": {},
   "outputs": [
    {
     "name": "stdout",
     "output_type": "stream",
     "text": [
      "Tensor(\"Const:0\", shape=(), dtype=string)\n"
     ]
    }
   ],
   "source": [
    "import tensorflow as tf\n",
    "\n",
    "hello = tf.constant('Hello, TensorFlow!')\n",
    "print(hello)"
   ]
  },
  {
   "cell_type": "code",
   "execution_count": 2,
   "metadata": {},
   "outputs": [
    {
     "name": "stdout",
     "output_type": "stream",
     "text": [
      "Tensor(\"Add:0\", shape=(), dtype=int32)\n"
     ]
    }
   ],
   "source": [
    "a = tf.constant(10)\n",
    "b = tf.constant(32)\n",
    "c = tf.add(a,b)\n",
    "print(c)"
   ]
  },
  {
   "cell_type": "code",
   "execution_count": 3,
   "metadata": {},
   "outputs": [
    {
     "name": "stdout",
     "output_type": "stream",
     "text": [
      "b'Hello, TensorFlow!'\n",
      "[10, 32, 42]\n"
     ]
    }
   ],
   "source": [
    "sess = tf.Session()\n",
    "print(sess.run(hello))\n",
    "print(sess.run([a,b,c]))"
   ]
  },
  {
   "cell_type": "code",
   "execution_count": 4,
   "metadata": {},
   "outputs": [],
   "source": [
    "sess.close()"
   ]
  },
  {
   "cell_type": "code",
   "execution_count": 5,
   "metadata": {},
   "outputs": [
    {
     "name": "stdout",
     "output_type": "stream",
     "text": [
      "Tensor(\"Placeholder:0\", shape=(?, 3), dtype=float32)\n"
     ]
    }
   ],
   "source": [
    "X = tf.placeholder(tf.float32, [None, 3])\n",
    "print(X)"
   ]
  },
  {
   "cell_type": "code",
   "execution_count": 6,
   "metadata": {},
   "outputs": [],
   "source": [
    "x_data = [[1,2,3],[4,5,6]]"
   ]
  },
  {
   "cell_type": "code",
   "execution_count": 7,
   "metadata": {},
   "outputs": [],
   "source": [
    "W = tf.Variable(tf.random_normal([3,2]))\n",
    "b = tf.Variable(tf.random_normal([2,1]))"
   ]
  },
  {
   "cell_type": "code",
   "execution_count": 8,
   "metadata": {},
   "outputs": [],
   "source": [
    "expr = tf.matmul(X, W) + b"
   ]
  },
  {
   "cell_type": "code",
   "execution_count": 9,
   "metadata": {},
   "outputs": [],
   "source": [
    "sess = tf.Session()\n",
    "sess.run(tf.global_variables_initializer())"
   ]
  },
  {
   "cell_type": "code",
   "execution_count": 10,
   "metadata": {},
   "outputs": [
    {
     "name": "stdout",
     "output_type": "stream",
     "text": [
      "[[1, 2, 3], [4, 5, 6]]\n"
     ]
    }
   ],
   "source": [
    "print(x_data)"
   ]
  },
  {
   "cell_type": "code",
   "execution_count": 11,
   "metadata": {},
   "outputs": [
    {
     "name": "stdout",
     "output_type": "stream",
     "text": [
      "[[-1.420252    0.10717922]\n",
      " [-1.2534639   1.1835194 ]\n",
      " [-1.004744   -0.12426467]]\n"
     ]
    }
   ],
   "source": [
    "print(sess.run(W))"
   ]
  },
  {
   "cell_type": "code",
   "execution_count": 12,
   "metadata": {},
   "outputs": [
    {
     "name": "stdout",
     "output_type": "stream",
     "text": [
      "[[-0.6652669]\n",
      " [ 1.7500612]]\n"
     ]
    }
   ],
   "source": [
    "print(sess.run(b))"
   ]
  },
  {
   "cell_type": "code",
   "execution_count": 14,
   "metadata": {},
   "outputs": [
    {
     "name": "stdout",
     "output_type": "stream",
     "text": [
      "[[ -7.606679    1.4361569]\n",
      " [-16.22673     7.350786 ]]\n"
     ]
    }
   ],
   "source": [
    "print(sess.run(expr,feed_dict={X:x_data}))"
   ]
  },
  {
   "cell_type": "code",
   "execution_count": 15,
   "metadata": {},
   "outputs": [],
   "source": [
    "sess.close()"
   ]
  },
  {
   "cell_type": "code",
   "execution_count": 16,
   "metadata": {},
   "outputs": [],
   "source": [
    "# 기초적인 선형 회귀 모델"
   ]
  },
  {
   "cell_type": "code",
   "execution_count": 17,
   "metadata": {},
   "outputs": [
    {
     "name": "stdout",
     "output_type": "stream",
     "text": [
      "Tensor(\"X:0\", dtype=float32)\n",
      "Tensor(\"Y:0\", dtype=float32)\n"
     ]
    }
   ],
   "source": [
    "x_data = [1,2,3]\n",
    "y_data = [1,2,3]\n",
    "\n",
    "W = tf.Variable(tf.random_uniform([1],-1.0,1.0))\n",
    "b = tf.Variable(tf.random_uniform([1],-1.0,1.0))\n",
    "\n",
    "X = tf.placeholder(tf.float32, name=\"X\")\n",
    "Y = tf.placeholder(tf.float32, name=\"Y\")\n",
    "print(X)\n",
    "print(Y)"
   ]
  },
  {
   "cell_type": "code",
   "execution_count": 20,
   "metadata": {},
   "outputs": [],
   "source": [
    "hypothesis = W*X + b"
   ]
  },
  {
   "cell_type": "code",
   "execution_count": 21,
   "metadata": {},
   "outputs": [],
   "source": [
    "cost = tf.reduce_mean(tf.square(hypothesis-Y))"
   ]
  },
  {
   "cell_type": "code",
   "execution_count": 22,
   "metadata": {},
   "outputs": [],
   "source": [
    "optimizer = tf.train.GradientDescentOptimizer(learning_rate=0.1)"
   ]
  },
  {
   "cell_type": "code",
   "execution_count": 23,
   "metadata": {},
   "outputs": [],
   "source": [
    "train_op=optimizer.minimize(cost)"
   ]
  },
  {
   "cell_type": "code",
   "execution_count": 26,
   "metadata": {},
   "outputs": [
    {
     "name": "stdout",
     "output_type": "stream",
     "text": [
      "0 4.6258836 [1.1717954] [-0.14278534]\n",
      "1 0.059998583 [1.0685672] [-0.18294643]\n",
      "2 0.005233053 [1.0777497] [-0.17378399]\n",
      "3 0.0043643387 [1.0746969] [-0.17012708]\n",
      "4 0.0041496134 [1.0730307] [-0.16598041]\n",
      "5 0.003952425 [1.0712608] [-0.16199662]\n",
      "6 0.0037646724 [1.0695494] [-0.15810162]\n",
      "7 0.003585851 [1.0678773] [-0.15430108]\n",
      "8 0.0034155184 [1.0662456] [-0.15059178]\n",
      "9 0.0032532811 [1.064653] [-0.14697164]\n",
      "10 0.0030987517 [1.0630989] [-0.14343853]\n",
      "11 0.0029515552 [1.061582] [-0.13999039]\n",
      "12 0.002811353 [1.0601016] [-0.1366251]\n",
      "13 0.002677819 [1.0586568] [-0.13334075]\n",
      "14 0.0025506155 [1.0572467] [-0.13013533]\n",
      "15 0.0024294585 [1.0558705] [-0.12700695]\n",
      "16 0.0023140572 [1.0545275] [-0.12395376]\n",
      "17 0.0022041379 [1.0532167] [-0.120974]\n",
      "18 0.0020994397 [1.0519373] [-0.11806587]\n",
      "19 0.0019997165 [1.0506889] [-0.11522764]\n",
      "20 0.0019047293 [1.0494703] [-0.11245766]\n",
      "21 0.0018142449 [1.0482811] [-0.10975423]\n",
      "22 0.0017280662 [1.0471205] [-0.10711581]\n",
      "23 0.0016459859 [1.0459877] [-0.10454082]\n",
      "24 0.0015678052 [1.0448822] [-0.10202776]\n",
      "25 0.0014933314 [1.0438032] [-0.09957507]\n",
      "26 0.0014223955 [1.0427502] [-0.09718135]\n",
      "27 0.0013548281 [1.0417225] [-0.09484518]\n",
      "28 0.001290478 [1.0407195] [-0.09256516]\n",
      "29 0.0012291794 [1.0397407] [-0.09033994]\n",
      "30 0.0011707932 [1.0387853] [-0.08816823]\n",
      "31 0.0011151772 [1.037853] [-0.08604871]\n",
      "32 0.0010622072 [1.036943] [-0.08398018]\n",
      "33 0.0010117515 [1.036055] [-0.08196133]\n",
      "34 0.00096368784 [1.0351882] [-0.07999104]\n",
      "35 0.0009179129 [1.0343423] [-0.07806811]\n",
      "36 0.0008743151 [1.0335168] [-0.0761914]\n",
      "37 0.0008327808 [1.032711] [-0.07435982]\n",
      "38 0.0007932235 [1.0319247] [-0.07257226]\n",
      "39 0.0007555456 [1.0311573] [-0.07082771]\n",
      "40 0.0007196578 [1.0304083] [-0.06912506]\n",
      "41 0.0006854698 [1.0296773] [-0.06746334]\n",
      "42 0.0006529106 [1.0289638] [-0.06584156]\n",
      "43 0.0006218969 [1.0282676] [-0.06425877]\n",
      "44 0.0005923577 [1.027588] [-0.06271406]\n",
      "45 0.0005642217 [1.0269248] [-0.06120646]\n",
      "46 0.0005374187 [1.0262775] [-0.0597351]\n",
      "47 0.00051189284 [1.0256459] [-0.0582991]\n",
      "48 0.00048757903 [1.0250293] [-0.05689763]\n",
      "49 0.00046441783 [1.0244277] [-0.05552983]\n",
      "50 0.0004423561 [1.0238404] [-0.05419493]\n",
      "51 0.0004213438 [1.0232674] [-0.05289211]\n",
      "52 0.00040132963 [1.0227079] [-0.05162065]\n",
      "53 0.00038226543 [1.0221621] [-0.05037969]\n",
      "54 0.0003641084 [1.0216293] [-0.04916859]\n",
      "55 0.00034681254 [1.0211093] [-0.04798661]\n",
      "56 0.0003303399 [1.0206019] [-0.04683303]\n",
      "57 0.0003146482 [1.0201067] [-0.04570717]\n",
      "58 0.0002996994 [1.0196234] [-0.04460839]\n",
      "59 0.00028546693 [1.0191516] [-0.04353609]\n",
      "60 0.00027190306 [1.0186913] [-0.04248948]\n",
      "61 0.0002589896 [1.0182419] [-0.0414681]\n",
      "62 0.0002466873 [1.0178034] [-0.04047123]\n",
      "63 0.00023496972 [1.0173753] [-0.03949835]\n",
      "64 0.00022380751 [1.0169578] [-0.03854882]\n",
      "65 0.00021317892 [1.0165501] [-0.03762216]\n",
      "66 0.00020305149 [1.0161523] [-0.03671775]\n",
      "67 0.00019340713 [1.0157639] [-0.0358351]\n",
      "68 0.00018422121 [1.0153849] [-0.03497364]\n",
      "69 0.00017546891 [1.0150151] [-0.03413288]\n",
      "70 0.00016713377 [1.0146542] [-0.03331235]\n",
      "71 0.00015919495 [1.0143019] [-0.03251155]\n",
      "72 0.00015163464 [1.0139581] [-0.03173001]\n",
      "73 0.00014443208 [1.0136225] [-0.03096726]\n",
      "74 0.00013757012 [1.013295] [-0.03022282]\n",
      "75 0.00013103437 [1.0129755] [-0.02949627]\n",
      "76 0.00012481159 [1.0126635] [-0.0287872]\n",
      "77 0.00011888364 [1.0123591] [-0.02809516]\n",
      "78 0.00011323524 [1.0120621] [-0.02741978]\n",
      "79 0.00010785711 [1.011772] [-0.02676065]\n",
      "80 0.00010273331 [1.011489] [-0.02611733]\n",
      "81 9.78542e-05 [1.0112128] [-0.02548948]\n",
      "82 9.320508e-05 [1.0109433] [-0.02487671]\n",
      "83 8.8777975e-05 [1.0106802] [-0.02427869]\n",
      "84 8.4561114e-05 [1.0104234] [-0.02369504]\n",
      "85 8.054429e-05 [1.0101728] [-0.0231254]\n",
      "86 7.6718025e-05 [1.0099283] [-0.02256946]\n",
      "87 7.307466e-05 [1.0096897] [-0.02202692]\n",
      "88 6.9601614e-05 [1.0094568] [-0.0214974]\n",
      "89 6.629647e-05 [1.0092294] [-0.02098062]\n",
      "90 6.314739e-05 [1.0090076] [-0.02047627]\n",
      "91 6.0148264e-05 [1.008791] [-0.01998406]\n",
      "92 5.7291138e-05 [1.0085796] [-0.01950364]\n",
      "93 5.456917e-05 [1.0083734] [-0.01903475]\n",
      "94 5.1977197e-05 [1.0081722] [-0.01857716]\n",
      "95 4.9508973e-05 [1.0079756] [-0.0181306]\n",
      "96 4.715686e-05 [1.0077839] [-0.01769471]\n",
      "97 4.491647e-05 [1.0075969] [-0.01726933]\n",
      "98 4.278235e-05 [1.0074142] [-0.01685419]\n",
      "99 4.074982e-05 [1.007236] [-0.01644903]\n",
      "\n",
      "=== Test ===\n",
      "X: 5, Y: [5.019731]\n",
      "X: 2.5, Y: [2.501641]\n"
     ]
    }
   ],
   "source": [
    "with tf.Session() as sess:\n",
    "    sess.run(tf.global_variables_initializer())\n",
    "    \n",
    "    for step in range(100):\n",
    "        _, cost_val = sess.run([train_op, cost], feed_dict={X: x_data, Y: y_data})\n",
    "\n",
    "        print(step, cost_val, sess.run(W), sess.run(b))\n",
    "\n",
    "    # 최적화가 완료된 모델에 테스트 값을 넣고 결과가 잘 나오는지 확인해봅니다.\n",
    "    print(\"\\n=== Test ===\")\n",
    "    print(\"X: 5, Y:\", sess.run(hypothesis, feed_dict={X: 5}))\n",
    "    print(\"X: 2.5, Y:\", sess.run(hypothesis, feed_dict={X: 2.5}))"
   ]
  },
  {
   "cell_type": "code",
   "execution_count": null,
   "metadata": {},
   "outputs": [],
   "source": []
  }
 ],
 "metadata": {
  "kernelspec": {
   "display_name": "Python 3",
   "language": "python",
   "name": "python3"
  },
  "language_info": {
   "codemirror_mode": {
    "name": "ipython",
    "version": 3
   },
   "file_extension": ".py",
   "mimetype": "text/x-python",
   "name": "python",
   "nbconvert_exporter": "python",
   "pygments_lexer": "ipython3",
   "version": "3.6.4"
  }
 },
 "nbformat": 4,
 "nbformat_minor": 2
}
