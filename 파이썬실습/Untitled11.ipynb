{
 "cells": [
  {
   "cell_type": "code",
   "execution_count": null,
   "metadata": {
    "scrolled": true
   },
   "outputs": [],
   "source": [
    "def find_min_room(num_class, classes):\n",
    "    #구현해주세요!\n",
    "    start =[]\n",
    "    end =[]\n",
    "    start.append(int(classes[0][1]))\n",
    "    end.append(int(classes[0][2]))\n",
    "    start.sort()\n",
    "    end.sort()\n",
    "    i = 0\n",
    "    j = 0\n",
    "    newstart = []\n",
    "    for i in range(len(start)):\n",
    "        if end[0] < start[i]:\n",
    "            newstart.append(start[i])\n",
    "            j+=1\n",
    "    min_rooms = num_class - j\n",
    "    i = 0\n",
    "    j = 0\n",
    "    for i in range(len(newstart)):  \n",
    "        if end[j] <= newstart[i] :\n",
    "            i+=1\n",
    "            j+=1\n",
    "        else :\n",
    "            min_rooms+=1\n",
    "            i+=1\n",
    "    min_rooms\n",
    "    \n",
    "        \n",
    "        \n",
    "    \n",
    "    return min_rooms\n",
    "\n",
    "def read_inputs():\n",
    "    num_class = int(input())\n",
    "    classes = []\n",
    "    for i in range(num_class):\n",
    "        line = [int(x) for x in input().split()]\n",
    "        class_no = line[0]\n",
    "        start = line[1]\n",
    "        end = line[2]\n",
    "        classes.append((class_no, start, end))\n",
    "\n",
    "    return num_class, classes\n",
    "\n",
    "def main():\n",
    "    num_class, classes = read_inputs()\n",
    "    ans = find_min_room(num_class, classes)\n",
    "    print(ans)\n",
    "\n",
    "if __name__ == \"__main__\":\n",
    "    main()"
   ]
  },
  {
   "cell_type": "code",
   "execution_count": null,
   "metadata": {},
   "outputs": [],
   "source": []
  }
 ],
 "metadata": {
  "kernelspec": {
   "display_name": "Python 3",
   "language": "python",
   "name": "python3"
  },
  "language_info": {
   "codemirror_mode": {
    "name": "ipython",
    "version": 3
   },
   "file_extension": ".py",
   "mimetype": "text/x-python",
   "name": "python",
   "nbconvert_exporter": "python",
   "pygments_lexer": "ipython3",
   "version": "3.6.4"
  }
 },
 "nbformat": 4,
 "nbformat_minor": 2
}
