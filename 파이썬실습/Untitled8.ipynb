{
 "cells": [
  {
   "cell_type": "code",
   "execution_count": 1,
   "metadata": {},
   "outputs": [
    {
     "name": "stdout",
     "output_type": "stream",
     "text": [
      "Requirement already satisfied: tensorflow in c:\\users\\acorn\\appdata\\local\\conda\\conda\\envs\\xgboost\\lib\\site-packages\n",
      "Requirement already satisfied: six>=1.10.0 in c:\\users\\acorn\\appdata\\local\\conda\\conda\\envs\\xgboost\\lib\\site-packages (from tensorflow)\n",
      "Requirement already satisfied: termcolor>=1.1.0 in c:\\users\\acorn\\appdata\\local\\conda\\conda\\envs\\xgboost\\lib\\site-packages (from tensorflow)\n",
      "Requirement already satisfied: grpcio>=1.8.6 in c:\\users\\acorn\\appdata\\local\\conda\\conda\\envs\\xgboost\\lib\\site-packages (from tensorflow)\n",
      "Requirement already satisfied: gast>=0.2.0 in c:\\users\\acorn\\appdata\\local\\conda\\conda\\envs\\xgboost\\lib\\site-packages (from tensorflow)\n",
      "Requirement already satisfied: numpy>=1.13.3 in c:\\users\\acorn\\appdata\\local\\conda\\conda\\envs\\xgboost\\lib\\site-packages (from tensorflow)\n",
      "Requirement already satisfied: tensorboard<1.8.0,>=1.7.0 in c:\\users\\acorn\\appdata\\local\\conda\\conda\\envs\\xgboost\\lib\\site-packages (from tensorflow)\n",
      "Requirement already satisfied: wheel>=0.26 in c:\\users\\acorn\\appdata\\local\\conda\\conda\\envs\\xgboost\\lib\\site-packages (from tensorflow)\n",
      "Requirement already satisfied: protobuf>=3.4.0 in c:\\users\\acorn\\appdata\\local\\conda\\conda\\envs\\xgboost\\lib\\site-packages (from tensorflow)\n",
      "Requirement already satisfied: absl-py>=0.1.6 in c:\\users\\acorn\\appdata\\local\\conda\\conda\\envs\\xgboost\\lib\\site-packages (from tensorflow)\n",
      "Requirement already satisfied: astor>=0.6.0 in c:\\users\\acorn\\appdata\\local\\conda\\conda\\envs\\xgboost\\lib\\site-packages (from tensorflow)\n",
      "Requirement already satisfied: bleach==1.5.0 in c:\\users\\acorn\\appdata\\local\\conda\\conda\\envs\\xgboost\\lib\\site-packages (from tensorboard<1.8.0,>=1.7.0->tensorflow)\n",
      "Requirement already satisfied: werkzeug>=0.11.10 in c:\\users\\acorn\\appdata\\local\\conda\\conda\\envs\\xgboost\\lib\\site-packages (from tensorboard<1.8.0,>=1.7.0->tensorflow)\n",
      "Requirement already satisfied: html5lib==0.9999999 in c:\\users\\acorn\\appdata\\local\\conda\\conda\\envs\\xgboost\\lib\\site-packages (from tensorboard<1.8.0,>=1.7.0->tensorflow)\n",
      "Requirement already satisfied: markdown>=2.6.8 in c:\\users\\acorn\\appdata\\local\\conda\\conda\\envs\\xgboost\\lib\\site-packages (from tensorboard<1.8.0,>=1.7.0->tensorflow)\n",
      "Requirement already satisfied: setuptools in c:\\users\\acorn\\appdata\\local\\conda\\conda\\envs\\xgboost\\lib\\site-packages (from protobuf>=3.4.0->tensorflow)\n"
     ]
    },
    {
     "name": "stderr",
     "output_type": "stream",
     "text": [
      "You are using pip version 9.0.1, however version 10.0.1 is available.\n",
      "You should consider upgrading via the 'python -m pip install --upgrade pip' command.\n"
     ]
    }
   ],
   "source": [
    "!pip install tensorflow"
   ]
  },
  {
   "cell_type": "code",
   "execution_count": null,
   "metadata": {},
   "outputs": [],
   "source": []
  }
 ],
 "metadata": {
  "kernelspec": {
   "display_name": "Python 3",
   "language": "python",
   "name": "python3"
  },
  "language_info": {
   "codemirror_mode": {
    "name": "ipython",
    "version": 3
   },
   "file_extension": ".py",
   "mimetype": "text/x-python",
   "name": "python",
   "nbconvert_exporter": "python",
   "pygments_lexer": "ipython3",
   "version": "3.6.4"
  }
 },
 "nbformat": 4,
 "nbformat_minor": 2
}
