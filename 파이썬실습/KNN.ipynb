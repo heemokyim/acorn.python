{
 "cells": [
  {
   "cell_type": "code",
   "execution_count": 1,
   "metadata": {},
   "outputs": [],
   "source": [
    "import numpy as np\n",
    "import matplotlib.pyplot as plt"
   ]
  },
  {
   "cell_type": "code",
   "execution_count": 2,
   "metadata": {},
   "outputs": [
    {
     "name": "stdout",
     "output_type": "stream",
     "text": [
      "단맛 입력(1~10):2\n",
      "아삭거림 입력(1~10):5\n"
     ]
    }
   ],
   "source": [
    "#feature(단맛, 아삭거림)\n",
    "\n",
    "grape = [8,5]\n",
    "fish = [2, 3]\n",
    "carrot = [7,10]\n",
    "orange = [7, 3]\n",
    "celery = [3, 8]\n",
    "cheese = [1, 1]\n",
    "\n",
    "#label\n",
    "category = ['과일', '단백질', '채소', '과일','채소', '단백질']\n",
    "\n",
    "dan = int(input('단맛 입력(1~10):'))\n",
    "asac = int(input('아삭거림 입력(1~10):'))\n",
    "target = [dan, asac]\n",
    "\n",
    "def data_set():\n",
    "    dataset = np.array([grape, fish, carrot, orange, celery, cheese])\n",
    "    size = len(dataset)\n",
    "    class_target = np.tile(target, (size,1))\n",
    "    class_category = np.array(category)\n",
    "    \n",
    "    return dataset, class_target, class_category\n",
    "\n",
    "dataset, class_target, class_category = data_set()"
   ]
  },
  {
   "cell_type": "code",
   "execution_count": 3,
   "metadata": {},
   "outputs": [
    {
     "data": {
      "text/plain": [
       "array([[2, 5],\n",
       "       [2, 5],\n",
       "       [2, 5],\n",
       "       [2, 5],\n",
       "       [2, 5],\n",
       "       [2, 5]])"
      ]
     },
     "execution_count": 3,
     "metadata": {},
     "output_type": "execute_result"
    }
   ],
   "source": [
    "class_target"
   ]
  },
  {
   "cell_type": "code",
   "execution_count": 4,
   "metadata": {},
   "outputs": [
    {
     "data": {
      "text/plain": [
       "array(['과일', '단백질', '채소', '과일', '채소', '단백질'], dtype='<U3')"
      ]
     },
     "execution_count": 4,
     "metadata": {},
     "output_type": "execute_result"
    }
   ],
   "source": [
    "class_category"
   ]
  },
  {
   "cell_type": "code",
   "execution_count": 39,
   "metadata": {},
   "outputs": [],
   "source": [
    "def classify(dataset, class_target, class_category, k):\n",
    "    # 유클리드 거리 계산\n",
    "    diffMat = class_target - dataset   # 두 점의 차\n",
    "    sqDiffMat = diffMat**2             # 차에 대한 제곱\n",
    "    row_sum = sqDiffMat.sum(axis=1)    # 차에 대한 제곱에 대한 합\n",
    "    distance = np.sqrt(row_sum)        # 차에 대한 제곱에 대한 합의 제곱근(최종거리)\n",
    "    \n",
    "    # 가까운 거리 오름차순 정렬\n",
    "    sortDist = distance.argsort() #인덱스값을 리턴\n",
    "    \n",
    "    # 이웃한 k개 선정\n",
    "    class_result = {}\n",
    "    for i in range(k):\n",
    "        c = class_category[sortDist[i]] # 가까운 순으로 정렬된 인덱스 중 k개 까지 저장\n",
    "        class_result[c] = class_result.get(c, 0) + 1 # get - key로 value 찾기  있으면 0을 도출,갯수를위해 +!\n",
    "        # class_result 딕셔너리 형태 '단백질' : 갯수, \n",
    "    print(class_result['단백질'])\n",
    "    \n",
    "    return class_result\n"
   ]
  },
  {
   "cell_type": "code",
   "execution_count": 40,
   "metadata": {},
   "outputs": [
    {
     "name": "stdout",
     "output_type": "stream",
     "text": [
      "k값 입력(1~3):3\n",
      "2\n",
      "{'단백질': 2, '채소': 1}\n"
     ]
    }
   ],
   "source": [
    "k = int(input('k값 입력(1~3):'))\n",
    "class_result = classify(dataset, class_target, class_category, k)  # classify()함수호출\n",
    "print(class_result)"
   ]
  },
  {
   "cell_type": "code",
   "execution_count": 30,
   "metadata": {},
   "outputs": [
    {
     "name": "stdout",
     "output_type": "stream",
     "text": [
      "분류대상은 단백질 입니다.\n"
     ]
    }
   ],
   "source": [
    "# 분류결과 출력 함수 정의\n",
    "def classify_result(class_result):\n",
    "    protein = fruit = vegetable = 0\n",
    "    \n",
    "    for c in class_result.keys():\n",
    "        if c == '단백질':\n",
    "            protein = class_result[c]\n",
    "        elif c =='과일':\n",
    "            fruit = class_result[c]\n",
    "        else :\n",
    "            vegetable = class_result[c]\n",
    "\n",
    "    if protein > fruit and protein > vegetable:\n",
    "        result = \"분류대상은 단백질 입니다.\"\n",
    "    elif fruit > protein and fruit > vegetable:\n",
    "        result = \"분류대상은 과일 입니다\"\n",
    "    else:\n",
    "        result = \"분류대상은 채소 입니다.\"\n",
    "        \n",
    "    return result\n",
    "\n",
    "\n",
    "a = classify_result(class_result)\n",
    "print(a)"
   ]
  },
  {
   "cell_type": "code",
   "execution_count": 32,
   "metadata": {},
   "outputs": [
    {
     "data": {
      "image/png": "[encoded data removed]",
      "text/plain": [
       "<matplotlib.figure.Figure at 0x8360588>"
      ]
     },
     "metadata": {},
     "output_type": "display_data"
    }
   ],
   "source": [
    "# 시각화(o= 과일, +=단밸질, *=채소\n",
    "plt.scatter(8, 5, marker='o')\n",
    "plt.scatter(2, 3, marker='+')   \n",
    "plt.scatter(7, 10, marker='*') \n",
    "plt.scatter(7, 3, marker='o')\n",
    "plt.scatter(3, 8, marker='+')\n",
    "plt.scatter(1, 1, marker='*')\n",
    "plt.scatter(dan, asac, color='red') # 분류대상 -> B집단 \n",
    "\n",
    "plt.show()"
   ]
  },
  {
   "cell_type": "code",
   "execution_count": null,
   "metadata": {},
   "outputs": [],
   "source": []
  }
 ],
 "metadata": {
  "kernelspec": {
   "display_name": "Python 3",
   "language": "python",
   "name": "python3"
  },
  "language_info": {
   "codemirror_mode": {
    "name": "ipython",
    "version": 3
   },
   "file_extension": ".py",
   "mimetype": "text/x-python",
   "name": "python",
   "nbconvert_exporter": "python",
   "pygments_lexer": "ipython3",
   "version": "3.6.4"
  }
 },
 "nbformat": 4,
 "nbformat_minor": 2
}
