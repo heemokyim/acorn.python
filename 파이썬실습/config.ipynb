{
 "cells": [
  {
   "cell_type": "code",
   "execution_count": null,
   "metadata": {},
   "outputs": [],
   "source": [
    "access_key = 'CC3M4onQBEqXJ7r1tVPyY%2BNsXGYD78C%2FFpSr7JIZnZKQfyLqcvu3MTb%2ByCorujiF69wHSVTC5KNjg%2Bm4m4zYuA%3D%3D'  "
   ]
  }
 ],
 "metadata": {
  "kernelspec": {
   "display_name": "Python 3",
   "language": "python",
   "name": "python3"
  },
  "language_info": {
   "codemirror_mode": {
    "name": "ipython",
    "version": 3
   },
   "file_extension": ".py",
   "mimetype": "text/x-python",
   "name": "python",
   "nbconvert_exporter": "python",
   "pygments_lexer": "ipython3",
   "version": "3.6.4"
  }
 },
 "nbformat": 4,
 "nbformat_minor": 2
}
