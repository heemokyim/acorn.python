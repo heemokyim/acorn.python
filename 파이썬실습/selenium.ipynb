{
 "cells": [
  {
   "cell_type": "code",
   "execution_count": 2,
   "metadata": {},
   "outputs": [],
   "source": [
    "from selenium import webdriver\n",
    "\n",
    "browser = webdriver.Chrome(\"chromedriver.exe\")\n",
    "browser.get('http://www.naver.com/')\n"
   ]
  },
  {
   "cell_type": "code",
   "execution_count": 10,
   "metadata": {},
   "outputs": [
    {
     "name": "stdout",
     "output_type": "stream",
     "text": [
      "로그인 페이지로 접근합니다.\n"
     ]
    }
   ],
   "source": [
    "from selenium import webdriver\n",
    "\n",
    "USER='heemokyim'\n",
    "PASS='dladmlgus348'\n",
    "\n",
    "browser = webdriver.Chrome('chromedriver.exe')\n",
    "browser.implicitly_wait(3) #서버가 터지지 않게 시간적 여유\n",
    "\n",
    "url_login='https://nid.naver.com/nidlogin.login'\n",
    "browser.get(url_login)\n",
    "print('로그인 페이지로 접근합니다.')"
   ]
  },
  {
   "cell_type": "code",
   "execution_count": 11,
   "metadata": {},
   "outputs": [],
   "source": [
    "e=browser.find_element_by_id('id')\n",
    "e.clear() #입력창에 아무것도 없도록\n",
    "e.send_keys(USER)\n",
    "e=browser.find_element_by_id('pw')\n",
    "e.clear()\n",
    "e.send_keys(PASS)"
   ]
  },
  {
   "cell_type": "code",
   "execution_count": 12,
   "metadata": {},
   "outputs": [
    {
     "name": "stdout",
     "output_type": "stream",
     "text": [
      "버튼을 클릭합니다.\n"
     ]
    }
   ],
   "source": [
    "form=browser.find_element_by_css_selector('#frmNIDLogin > fieldset > input') #input.btn_global[type=submit]\n",
    "form.click()\n",
    "print(\"버튼을 클릭합니다.\")"
   ]
  },
  {
   "cell_type": "code",
   "execution_count": 14,
   "metadata": {},
   "outputs": [
    {
     "name": "stdout",
     "output_type": "stream",
     "text": [
      "- 24k 금수저 돌반지 3.75g / 1.875g\n"
     ]
    }
   ],
   "source": [
    "browser.get('https://order.pay.naver.com/home')\n",
    "products=browser.find_elements_by_css_selector(\"#_rowLi20180501101536CHK2018050161751561 > div.p_inr > div.p_info > a > span\") #.p_info span\n",
    "for product in products:\n",
    "    print(\"-\", product.text)\n",
    "##_rowLi20180501101536CHK2018050161751561 > div.p_inr > div.p_info > a > span"
   ]
  },
  {
   "cell_type": "code",
   "execution_count": 21,
   "metadata": {},
   "outputs": [
    {
     "name": "stdout",
     "output_type": "stream",
     "text": [
      "{'coord': {'lon': 126.98, 'lat': 37.57}, 'weather': [{'id': 701, 'main': 'Mist', 'description': 'mist', 'icon': '50d'}, {'id': 500, 'main': 'Rain', 'description': 'light rain', 'icon': '10d'}, {'id': 300, 'main': 'Drizzle', 'description': 'light intensity drizzle', 'icon': '09d'}], 'base': 'stations', 'main': {'temp': 296.72, 'pressure': 1004, 'humidity': 83, 'temp_min': 294.15, 'temp_max': 298.15}, 'visibility': 11265, 'wind': {'speed': 10.3, 'deg': 220, 'gust': 13.4}, 'clouds': {'all': 90}, 'dt': 1526439480, 'sys': {'type': 1, 'id': 7673, 'message': 0.0139, 'country': 'KR', 'sunrise': 1526415735, 'sunset': 1526466908}, 'id': 1835848, 'name': 'Seoul', 'cod': 200}\n",
      "Seoul\n",
      "{'coord': {'lon': 139.76, 'lat': 35.68}, 'weather': [{'id': 801, 'main': 'Clouds', 'description': 'few clouds', 'icon': '02d'}], 'base': 'stations', 'main': {'temp': 299.32, 'pressure': 1013, 'humidity': 48, 'temp_min': 297.15, 'temp_max': 301.15}, 'visibility': 16093, 'wind': {'speed': 3.1, 'deg': 170}, 'clouds': {'all': 20}, 'dt': 1526439360, 'sys': {'type': 1, 'id': 7622, 'message': 0.0071, 'country': 'JP', 'sunrise': 1526412929, 'sunset': 1526463578}, 'id': 1850147, 'name': 'Tokyo', 'cod': 200}\n",
      "Tokyo\n",
      "{'coord': {'lon': -73.99, 'lat': 40.73}, 'weather': [{'id': 701, 'main': 'Mist', 'description': 'mist', 'icon': '50n'}, {'id': 500, 'main': 'Rain', 'description': 'light rain', 'icon': '10n'}], 'base': 'stations', 'main': {'temp': 292.24, 'pressure': 1015, 'humidity': 93, 'temp_min': 291.15, 'temp_max': 293.15}, 'visibility': 16093, 'wind': {'speed': 0.76, 'deg': 43.0034}, 'clouds': {'all': 90}, 'dt': 1526440740, 'sys': {'type': 1, 'id': 1969, 'message': 0.0149, 'country': 'US', 'sunrise': 1526463467, 'sunset': 1526515647}, 'id': 5128581, 'name': 'New York', 'cod': 200}\n",
      "New York\n"
     ]
    }
   ],
   "source": [
    "import requests\n",
    "import json\n",
    "\n",
    "apikey = \"0f6d2ae2af056d1aee6aace4d446e084\"\n",
    "\n",
    "cities = [\"Seoul,KR\", \"Tokyo,JP\",\"New York,US\"]\n",
    "api = \"http://api.openweathermap.org/data/2.5/weather?q={city}&APPID={key}\"\n",
    "\n",
    "k2c = lambda k: k -273.15\n",
    "\n",
    "for name in cities:\n",
    "    url= api.format(city=name, key=apikey)\n",
    "    \n",
    "    r= requests.get(url)\n",
    "    \n",
    "    data= json.loads(r.text)\n",
    "    print(data)\n",
    "    print(data[\"name\"])"
   ]
  },
  {
   "cell_type": "code",
   "execution_count": null,
   "metadata": {},
   "outputs": [],
   "source": []
  }
 ],
 "metadata": {
  "kernelspec": {
   "display_name": "Python 3",
   "language": "python",
   "name": "python3"
  },
  "language_info": {
   "codemirror_mode": {
    "name": "ipython",
    "version": 3
   },
   "file_extension": ".py",
   "mimetype": "text/x-python",
   "name": "python",
   "nbconvert_exporter": "python",
   "pygments_lexer": "ipython3",
   "version": "3.6.4"
  }
 },
 "nbformat": 4,
 "nbformat_minor": 2
}
