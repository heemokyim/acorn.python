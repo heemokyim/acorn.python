{
 "cells": [
  {
   "cell_type": "markdown",
   "metadata": {},
   "source": [
    "## For문"
   ]
  },
  {
   "cell_type": "code",
   "execution_count": 4,
   "metadata": {},
   "outputs": [
    {
     "name": "stdout",
     "output_type": "stream",
     "text": [
      "55\n"
     ]
    }
   ],
   "source": [
    "num = range(1, 11)\n",
    "list(num)\n",
    "sum=0\n",
    "for i in range(1,11):\n",
    "    sum = sum+ i #sum+=i, i++ -> i=i+1\n",
    "print(sum)"
   ]
  },
  {
   "cell_type": "code",
   "execution_count": 6,
   "metadata": {},
   "outputs": [],
   "source": [
    "range(50)\n",
    "list(range(50))"
   ]
  },
  {
   "cell_type": "code",
   "execution_count": 8,
   "metadata": {},
   "outputs": [
    {
     "data": {
      "text/plain": [
       "5"
      ]
     },
     "execution_count": 8,
     "metadata": {},
     "output_type": "execute_result"
    }
   ],
   "source": [
    "a=[1,2,3,4,5,]\n",
    "len(a)"
   ]
  },
  {
   "cell_type": "code",
   "execution_count": 11,
   "metadata": {},
   "outputs": [
    {
     "name": "stdout",
     "output_type": "stream",
     "text": [
      "*****"
     ]
    }
   ],
   "source": [
    "# \\n 강제로 다음줄의 첫행으로 보낸다.\n",
    "for i in range(5):\n",
    "    print(\"*\", end=\"\")"
   ]
  },
  {
   "cell_type": "code",
   "execution_count": 12,
   "metadata": {},
   "outputs": [
    {
     "name": "stdout",
     "output_type": "stream",
     "text": [
      "*\n",
      "*\n",
      "*\n",
      "*\n",
      "*\n"
     ]
    }
   ],
   "source": [
    "# \\n 강제로 다음줄의 첫행으로 보낸다.\n",
    "for i in range(5):\n",
    "    print(\"*\", end=\"\\n\")"
   ]
  },
  {
   "cell_type": "code",
   "execution_count": 23,
   "metadata": {},
   "outputs": [
    {
     "name": "stdout",
     "output_type": "stream",
     "text": [
      "\n",
      "*\n",
      "**\n",
      "***\n",
      "****\n",
      "*****\n"
     ]
    }
   ],
   "source": [
    "for j in range(6):\n",
    "    for i in range(6):\n",
    "        if i == j:\n",
    "            print(\"*\"*j,end=\"\")\n",
    "    print()"
   ]
  },
  {
   "cell_type": "code",
   "execution_count": 31,
   "metadata": {},
   "outputs": [
    {
     "name": "stdout",
     "output_type": "stream",
     "text": [
      "******\n",
      "*****\n",
      "****\n",
      "***\n",
      "**\n",
      "*\n"
     ]
    }
   ],
   "source": [
    "for j in range(6):\n",
    "    for i in range(6):\n",
    "        if i == j:\n",
    "            print(\"*\"*(6-i),end=\"\")\n",
    "    print()"
   ]
  },
  {
   "cell_type": "code",
   "execution_count": 93,
   "metadata": {},
   "outputs": [
    {
     "name": "stdout",
     "output_type": "stream",
     "text": [
      "     \t \n",
      "    *\t \n",
      "   ***\t \n",
      "  *****\t \n",
      " *******\t \n"
     ]
    }
   ],
   "source": [
    "k=4\n",
    "for j in range(5):\n",
    "    for i in range(5):\n",
    "        if i == j:\n",
    "           print(\" \"*(k-i),\"*\"*(2*i-1),end=\"\\t\")\n",
    "            \n",
    "    print(\" \")"
   ]
  },
  {
   "cell_type": "code",
   "execution_count": 94,
   "metadata": {},
   "outputs": [
    {
     "name": "stdout",
     "output_type": "stream",
     "text": [
      "[3, 6, 9, 12]\n"
     ]
    }
   ],
   "source": [
    "a = [1,2,3,4]\n",
    "result = []\n",
    "for num in a:\n",
    "    result.append(num*3)\n",
    "print(result)"
   ]
  },
  {
   "cell_type": "code",
   "execution_count": 96,
   "metadata": {},
   "outputs": [
    {
     "name": "stdout",
     "output_type": "stream",
     "text": [
      "[3, 6, 9, 12]\n"
     ]
    }
   ],
   "source": [
    "result1 = [num * 3 for num in a]\n",
    "print(result)"
   ]
  },
  {
   "cell_type": "code",
   "execution_count": 99,
   "metadata": {},
   "outputs": [
    {
     "name": "stdout",
     "output_type": "stream",
     "text": [
      "[2, 4, 6, 8, 10, 12, 14, 16, 18, 3, 6, 9, 12, 15, 18, 21, 24, 27, 4, 8, 12, 16, 20, 24, 28, 32, 36, 5, 10, 15, 20, 25, 30, 35, 40, 45, 6, 12, 18, 24, 30, 36, 42, 48, 54, 7, 14, 21, 28, 35, 42, 49, 56, 63, 8, 16, 24, 32, 40, 48, 56, 64, 72, 9, 18, 27, 36, 45, 54, 63, 72, 81]"
     ]
    }
   ],
   "source": [
    "result2 = [x*y for x in range(2,10)\n",
    "                for y in range(1,10)]\n",
    "print(result2,end=\"\")"
   ]
  },
  {
   "cell_type": "code",
   "execution_count": 109,
   "metadata": {},
   "outputs": [
    {
     "data": {
      "text/plain": [
       "'Lf s t shrt, y nd pythn'"
      ]
     },
     "execution_count": 109,
     "metadata": {},
     "output_type": "execute_result"
    }
   ],
   "source": [
    "rem=['a','e','i','o','u']\n",
    "sentence=\"Life is too short, you need python\"\n",
    "\"\"\"result = []\n",
    "for ch in sentence:\n",
    "    if ch not in rem:\n",
    "        result.append(ch)\n",
    "''.join(result)\"\"\"\n",
    "\n",
    "#result.claer()\n",
    "''.join([ch for ch in sentence if ch not in rem])"
   ]
  },
  {
   "cell_type": "markdown",
   "metadata": {},
   "source": [
    "## 함수 def - 인수의 갯수 제한을 두지 않는다."
   ]
  },
  {
   "cell_type": "code",
   "execution_count": 111,
   "metadata": {},
   "outputs": [
    {
     "data": {
      "text/plain": [
       "60"
      ]
     },
     "execution_count": 111,
     "metadata": {},
     "output_type": "execute_result"
    }
   ],
   "source": [
    "def sum_many(*args): # *args를 통해서 인수 제한없이 함수를 만들 수 있다.\n",
    "    sum=0\n",
    "    for i in args:\n",
    "        sum += i\n",
    "    return sum\n",
    "\n",
    "sum_many(10,20)\n",
    "sum_many(10,20,30)"
   ]
  },
  {
   "cell_type": "code",
   "execution_count": 112,
   "metadata": {},
   "outputs": [
    {
     "name": "stdout",
     "output_type": "stream",
     "text": [
      "()\n",
      "{'sep': ','}\n",
      "(1, 2, 3)\n",
      "{'name': '홍길동', 'age': 20}\n",
      "(10,)\n",
      "{'name': '홍길동', 'age': 20}\n"
     ]
    }
   ],
   "source": [
    "def func(*args, **keylist):\n",
    "    print(args)\n",
    "    print(keylist)\n",
    "\n",
    "func(sep=\",\")\n",
    "\n",
    "func(1,2,3,name='홍길동',age=20)\n",
    "func(10,name='홍길동',age=20)"
   ]
  },
  {
   "cell_type": "code",
   "execution_count": 117,
   "metadata": {},
   "outputs": [
    {
     "name": "stdout",
     "output_type": "stream",
     "text": [
      "3\n",
      "\n"
     ]
    }
   ],
   "source": [
    "def sum_and_mul(a,b):\n",
    "    return a+b\n",
    "    return a*b\n",
    "total= sum_and_mul(1, 2)\n",
    "print(total)\n",
    "print()"
   ]
  },
  {
   "cell_type": "code",
   "execution_count": 118,
   "metadata": {},
   "outputs": [
    {
     "ename": "SyntaxError",
     "evalue": "invalid syntax (<ipython-input-118-a446bf786fc1>, line 1)",
     "output_type": "error",
     "traceback": [
      "\u001b[1;36m  File \u001b[1;32m\"<ipython-input-118-a446bf786fc1>\"\u001b[1;36m, line \u001b[1;32m1\u001b[0m\n\u001b[1;33m    2. global 명령어 이용하기\u001b[0m\n\u001b[1;37m            ^\u001b[0m\n\u001b[1;31mSyntaxError\u001b[0m\u001b[1;31m:\u001b[0m invalid syntax\n"
     ]
    }
   ],
   "source": [
    "2. global 명령어 이용하기\n",
    "\n",
    "# vartest_global.py\n",
    "a = 1 \n",
    "def vartest(): \n",
    "    global a \n",
    "    a = a+1\n",
    "\n",
    "vartest() \n",
    "print(a)"
   ]
  },
  {
   "cell_type": "code",
   "execution_count": 119,
   "metadata": {},
   "outputs": [
    {
     "ename": "SyntaxError",
     "evalue": "invalid syntax (<ipython-input-119-8b6afb8706ae>, line 1)",
     "output_type": "error",
     "traceback": [
      "\u001b[1;36m  File \u001b[1;32m\"<ipython-input-119-8b6afb8706ae>\"\u001b[1;36m, line \u001b[1;32m1\u001b[0m\n\u001b[1;33m    lambda\u001b[0m\n\u001b[1;37m          ^\u001b[0m\n\u001b[1;31mSyntaxError\u001b[0m\u001b[1;31m:\u001b[0m invalid syntax\n"
     ]
    }
   ],
   "source": [
    "lambda\n",
    "lambda는 함수를 생성할 때 사용하는 예약어로, def와 동일한 역할을 한다. 보통 함수를 한줄로 간결하게 만들 때 사용한다. 우리말로는 \"람다\"라고 읽고 def를 사용해야 할 정도로 복잡하지 않거나 def를 사용할 수 없는 곳에 주로 쓰인다. 사용법은 다음과 같다.\n",
    "\n",
    "lambda 인수1, 인수2, ... : 인수를 이용한 표현식\n",
    "\n",
    "한번 직접 만들어 보자.\n",
    "\n",
    ">>> sum = lambda a, b: a+b\n",
    ">>> sum(3,4)\n",
    "7"
   ]
  },
  {
   "cell_type": "code",
   "execution_count": 120,
   "metadata": {},
   "outputs": [
    {
     "data": {
      "text/plain": [
       "30"
      ]
     },
     "execution_count": 120,
     "metadata": {},
     "output_type": "execute_result"
    }
   ],
   "source": [
    "x=[lambda a, b:a+b, lambda a,b:a*b]\n",
    "\n",
    "x[0](10,20)\n",
    "\n",
    "\n",
    "\n",
    "\n",
    "\n"
   ]
  },
  {
   "cell_type": "code",
   "execution_count": 121,
   "metadata": {},
   "outputs": [
    {
     "data": {
      "text/plain": [
       "[6, 7, 8]"
      ]
     },
     "execution_count": 121,
     "metadata": {},
     "output_type": "execute_result"
    }
   ],
   "source": [
    "\"\"\">>> def myfunc(numbers):\n",
    "...     result = []\n",
    "...     for number in numbers:\n",
    "...         if number > 5:\n",
    "...             result.append(number)\n",
    "...     return result\n",
    "... \"\"\"\n",
    "myfunc = lambda numbers: [num for num in numbers if num > 5]\n",
    "myfunc([2,3,4,5,6,7,8])\n"
   ]
  },
  {
   "cell_type": "markdown",
   "metadata": {},
   "source": [
    "## 파일 불러오기 "
   ]
  },
  {
   "cell_type": "code",
   "execution_count": 6,
   "metadata": {},
   "outputs": [
    {
     "name": "stdout",
     "output_type": "stream",
     "text": [
      "\n"
     ]
    }
   ],
   "source": [
    "#fs=open(\"text.txt\",\"w\") #파일스트림-쓰기모드\n",
    "fs=open(\"text.txt\",\"r\") #파일스트림-읽기전용\n",
    "print(fs.read())"
   ]
  },
  {
   "cell_type": "code",
   "execution_count": 132,
   "metadata": {},
   "outputs": [
    {
     "name": "stdout",
     "output_type": "stream",
     "text": [
      "\n"
     ]
    }
   ],
   "source": [
    "print(fs.read())\n",
    "fs.close()"
   ]
  },
  {
   "cell_type": "code",
   "execution_count": 10,
   "metadata": {},
   "outputs": [
    {
     "name": "stdout",
     "output_type": "stream",
     "text": [
      "Life is too short~!!!\n"
     ]
    }
   ],
   "source": [
    "with open(\"text.txt\",\"r\") as f1: #with 밖으로 벗어나면 자동 종료\n",
    "    print(f1.read())"
   ]
  },
  {
   "cell_type": "code",
   "execution_count": 9,
   "metadata": {},
   "outputs": [],
   "source": [
    "with open(\"text.txt\",\"w\") as f2: #with 밖으로 벗어나면 자동 종료\n",
    "    f2.write(\"Life is too short~!!!\")"
   ]
  },
  {
   "cell_type": "markdown",
   "metadata": {},
   "source": [
    "## 하이"
   ]
  },
  {
   "cell_type": "code",
   "execution_count": 12,
   "metadata": {},
   "outputs": [
    {
     "name": "stdout",
     "output_type": "stream",
     "text": [
      "Collecting jupyterthemes\n",
      "  Downloading https://files.pythonhosted.org/packages/bc/ee/1921d0f873bd56fca378ad938eaff7cc2ab3e622ed6c035d968924c17677/jupyterthemes-0.19.1-py2.py3-none-any.whl (7.0MB)\n",
      "Collecting lesscpy>=0.11.2 (from jupyterthemes)\n",
      "  Downloading https://files.pythonhosted.org/packages/10/d0/fdd9874972e07ae8727a3d26b433891d8605b96999ea99bbf506e756a7b1/lesscpy-0.13.0-py2.py3-none-any.whl (48kB)\n",
      "Requirement already satisfied: jupyter-core in c:\\users\\acorn\\appdata\\local\\conda\\conda\\envs\\xgboost\\lib\\site-packages (from jupyterthemes)\n",
      "Requirement already satisfied: ipython>=5.4.1 in c:\\users\\acorn\\appdata\\local\\conda\\conda\\envs\\xgboost\\lib\\site-packages (from jupyterthemes)\n",
      "Requirement already satisfied: matplotlib>=1.4.3 in c:\\users\\acorn\\appdata\\local\\conda\\conda\\envs\\xgboost\\lib\\site-packages (from jupyterthemes)\n",
      "Requirement already satisfied: six in c:\\users\\acorn\\appdata\\local\\conda\\conda\\envs\\xgboost\\lib\\site-packages (from lesscpy>=0.11.2->jupyterthemes)\n",
      "Collecting ply (from lesscpy>=0.11.2->jupyterthemes)\n",
      "  Downloading https://files.pythonhosted.org/packages/a3/58/35da89ee790598a0700ea49b2a66594140f44dec458c07e8e3d4979137fc/ply-3.11-py2.py3-none-any.whl (49kB)\n",
      "Requirement already satisfied: traitlets in c:\\users\\acorn\\appdata\\local\\conda\\conda\\envs\\xgboost\\lib\\site-packages (from jupyter-core->jupyterthemes)\n",
      "Requirement already satisfied: setuptools>=18.5 in c:\\users\\acorn\\appdata\\local\\conda\\conda\\envs\\xgboost\\lib\\site-packages (from ipython>=5.4.1->jupyterthemes)\n",
      "Requirement already satisfied: jedi>=0.10 in c:\\users\\acorn\\appdata\\local\\conda\\conda\\envs\\xgboost\\lib\\site-packages (from ipython>=5.4.1->jupyterthemes)\n",
      "Requirement already satisfied: decorator in c:\\users\\acorn\\appdata\\local\\conda\\conda\\envs\\xgboost\\lib\\site-packages (from ipython>=5.4.1->jupyterthemes)\n",
      "Requirement already satisfied: pickleshare in c:\\users\\acorn\\appdata\\local\\conda\\conda\\envs\\xgboost\\lib\\site-packages (from ipython>=5.4.1->jupyterthemes)\n",
      "Requirement already satisfied: simplegeneric>0.8 in c:\\users\\acorn\\appdata\\local\\conda\\conda\\envs\\xgboost\\lib\\site-packages (from ipython>=5.4.1->jupyterthemes)\n",
      "Requirement already satisfied: prompt_toolkit<2.0.0,>=1.0.4 in c:\\users\\acorn\\appdata\\local\\conda\\conda\\envs\\xgboost\\lib\\site-packages (from ipython>=5.4.1->jupyterthemes)\n",
      "Requirement already satisfied: pygments in c:\\users\\acorn\\appdata\\local\\conda\\conda\\envs\\xgboost\\lib\\site-packages (from ipython>=5.4.1->jupyterthemes)\n",
      "Requirement already satisfied: colorama in c:\\users\\acorn\\appdata\\local\\conda\\conda\\envs\\xgboost\\lib\\site-packages (from ipython>=5.4.1->jupyterthemes)\n",
      "Requirement already satisfied: cycler>=0.10 in c:\\users\\acorn\\appdata\\local\\conda\\conda\\envs\\xgboost\\lib\\site-packages (from matplotlib>=1.4.3->jupyterthemes)\n",
      "Requirement already satisfied: kiwisolver>=1.0.1 in c:\\users\\acorn\\appdata\\local\\conda\\conda\\envs\\xgboost\\lib\\site-packages (from matplotlib>=1.4.3->jupyterthemes)\n",
      "Requirement already satisfied: pytz in c:\\users\\acorn\\appdata\\local\\conda\\conda\\envs\\xgboost\\lib\\site-packages (from matplotlib>=1.4.3->jupyterthemes)\n",
      "Requirement already satisfied: numpy>=1.7.1 in c:\\users\\acorn\\appdata\\local\\conda\\conda\\envs\\xgboost\\lib\\site-packages (from matplotlib>=1.4.3->jupyterthemes)\n",
      "Requirement already satisfied: pyparsing!=2.0.4,!=2.1.2,!=2.1.6,>=2.0.1 in c:\\users\\acorn\\appdata\\local\\conda\\conda\\envs\\xgboost\\lib\\site-packages (from matplotlib>=1.4.3->jupyterthemes)\n",
      "Requirement already satisfied: python-dateutil>=2.1 in c:\\users\\acorn\\appdata\\local\\conda\\conda\\envs\\xgboost\\lib\\site-packages (from matplotlib>=1.4.3->jupyterthemes)\n",
      "Requirement already satisfied: ipython_genutils in c:\\users\\acorn\\appdata\\local\\conda\\conda\\envs\\xgboost\\lib\\site-packages (from traitlets->jupyter-core->jupyterthemes)\n",
      "Requirement already satisfied: parso==0.1.* in c:\\users\\acorn\\appdata\\local\\conda\\conda\\envs\\xgboost\\lib\\site-packages (from jedi>=0.10->ipython>=5.4.1->jupyterthemes)\n",
      "Requirement already satisfied: wcwidth in c:\\users\\acorn\\appdata\\local\\conda\\conda\\envs\\xgboost\\lib\\site-packages (from prompt_toolkit<2.0.0,>=1.0.4->ipython>=5.4.1->jupyterthemes)\n",
      "Installing collected packages: ply, lesscpy, jupyterthemes\n",
      "Successfully installed jupyterthemes-0.19.1 lesscpy-0.13.0 ply-3.11\n"
     ]
    },
    {
     "name": "stderr",
     "output_type": "stream",
     "text": [
      "You are using pip version 9.0.1, however version 10.0.1 is available.\n",
      "You should consider upgrading via the 'python -m pip install --upgrade pip' command.\n"
     ]
    }
   ],
   "source": [
    "!pip install jupyterthemes"
   ]
  },
  {
   "cell_type": "code",
   "execution_count": 8,
   "metadata": {},
   "outputs": [
    {
     "name": "stdout",
     "output_type": "stream",
     "text": [
      "Requirement already satisfied: jupyterthemes in c:\\users\\acorn\\appdata\\local\\conda\\conda\\envs\\xgboost\\lib\\site-packages\n",
      "Requirement already satisfied: ipython>=5.4.1 in c:\\users\\acorn\\appdata\\local\\conda\\conda\\envs\\xgboost\\lib\\site-packages (from jupyterthemes)\n",
      "Requirement already satisfied: lesscpy>=0.11.2 in c:\\users\\acorn\\appdata\\local\\conda\\conda\\envs\\xgboost\\lib\\site-packages (from jupyterthemes)\n",
      "Requirement already satisfied: jupyter-core in c:\\users\\acorn\\appdata\\local\\conda\\conda\\envs\\xgboost\\lib\\site-packages (from jupyterthemes)\n",
      "Requirement already satisfied: matplotlib>=1.4.3 in c:\\users\\acorn\\appdata\\local\\conda\\conda\\envs\\xgboost\\lib\\site-packages (from jupyterthemes)\n",
      "Requirement already satisfied: setuptools>=18.5 in c:\\users\\acorn\\appdata\\local\\conda\\conda\\envs\\xgboost\\lib\\site-packages (from ipython>=5.4.1->jupyterthemes)\n",
      "Requirement already satisfied: jedi>=0.10 in c:\\users\\acorn\\appdata\\local\\conda\\conda\\envs\\xgboost\\lib\\site-packages (from ipython>=5.4.1->jupyterthemes)\n",
      "Requirement already satisfied: decorator in c:\\users\\acorn\\appdata\\local\\conda\\conda\\envs\\xgboost\\lib\\site-packages (from ipython>=5.4.1->jupyterthemes)\n",
      "Requirement already satisfied: pickleshare in c:\\users\\acorn\\appdata\\local\\conda\\conda\\envs\\xgboost\\lib\\site-packages (from ipython>=5.4.1->jupyterthemes)\n",
      "Requirement already satisfied: simplegeneric>0.8 in c:\\users\\acorn\\appdata\\local\\conda\\conda\\envs\\xgboost\\lib\\site-packages (from ipython>=5.4.1->jupyterthemes)\n",
      "Requirement already satisfied: traitlets>=4.2 in c:\\users\\acorn\\appdata\\local\\conda\\conda\\envs\\xgboost\\lib\\site-packages (from ipython>=5.4.1->jupyterthemes)\n",
      "Requirement already satisfied: prompt_toolkit<2.0.0,>=1.0.4 in c:\\users\\acorn\\appdata\\local\\conda\\conda\\envs\\xgboost\\lib\\site-packages (from ipython>=5.4.1->jupyterthemes)\n",
      "Requirement already satisfied: pygments in c:\\users\\acorn\\appdata\\local\\conda\\conda\\envs\\xgboost\\lib\\site-packages (from ipython>=5.4.1->jupyterthemes)\n",
      "Requirement already satisfied: colorama in c:\\users\\acorn\\appdata\\local\\conda\\conda\\envs\\xgboost\\lib\\site-packages (from ipython>=5.4.1->jupyterthemes)\n",
      "Requirement already satisfied: six in c:\\users\\acorn\\appdata\\local\\conda\\conda\\envs\\xgboost\\lib\\site-packages (from lesscpy>=0.11.2->jupyterthemes)\n",
      "Requirement already satisfied: ply in c:\\users\\acorn\\appdata\\local\\conda\\conda\\envs\\xgboost\\lib\\site-packages (from lesscpy>=0.11.2->jupyterthemes)\n",
      "Requirement already satisfied: cycler>=0.10 in c:\\users\\acorn\\appdata\\local\\conda\\conda\\envs\\xgboost\\lib\\site-packages (from matplotlib>=1.4.3->jupyterthemes)\n",
      "Requirement already satisfied: pytz in c:\\users\\acorn\\appdata\\local\\conda\\conda\\envs\\xgboost\\lib\\site-packages (from matplotlib>=1.4.3->jupyterthemes)\n",
      "Requirement already satisfied: kiwisolver>=1.0.1 in c:\\users\\acorn\\appdata\\local\\conda\\conda\\envs\\xgboost\\lib\\site-packages (from matplotlib>=1.4.3->jupyterthemes)\n",
      "Requirement already satisfied: pyparsing!=2.0.4,!=2.1.2,!=2.1.6,>=2.0.1 in c:\\users\\acorn\\appdata\\local\\conda\\conda\\envs\\xgboost\\lib\\site-packages (from matplotlib>=1.4.3->jupyterthemes)\n",
      "Requirement already satisfied: numpy>=1.7.1 in c:\\users\\acorn\\appdata\\local\\conda\\conda\\envs\\xgboost\\lib\\site-packages (from matplotlib>=1.4.3->jupyterthemes)\n",
      "Requirement already satisfied: python-dateutil>=2.1 in c:\\users\\acorn\\appdata\\local\\conda\\conda\\envs\\xgboost\\lib\\site-packages (from matplotlib>=1.4.3->jupyterthemes)\n",
      "Requirement already satisfied: parso==0.1.* in c:\\users\\acorn\\appdata\\local\\conda\\conda\\envs\\xgboost\\lib\\site-packages (from jedi>=0.10->ipython>=5.4.1->jupyterthemes)\n",
      "Requirement already satisfied: ipython_genutils in c:\\users\\acorn\\appdata\\local\\conda\\conda\\envs\\xgboost\\lib\\site-packages (from traitlets>=4.2->ipython>=5.4.1->jupyterthemes)\n",
      "Requirement already satisfied: wcwidth in c:\\users\\acorn\\appdata\\local\\conda\\conda\\envs\\xgboost\\lib\\site-packages (from prompt_toolkit<2.0.0,>=1.0.4->ipython>=5.4.1->jupyterthemes)\n"
     ]
    },
    {
     "name": "stderr",
     "output_type": "stream",
     "text": [
      "You are using pip version 9.0.1, however version 10.0.1 is available.\n",
      "You should consider upgrading via the 'python -m pip install --upgrade pip' command.\n"
     ]
    }
   ],
   "source": [
    "!pip install jupyterthemes"
   ]
  },
  {
   "cell_type": "code",
   "execution_count": 9,
   "metadata": {},
   "outputs": [],
   "source": [
    "import jupyterthemes as jt"
   ]
  },
  {
   "cell_type": "code",
   "execution_count": 12,
   "metadata": {},
   "outputs": [
    {
     "data": {
      "text/plain": [
       "'C:\\\\Users\\\\acorn\\\\AppData\\\\Local\\\\conda\\\\conda\\\\envs\\\\xgboost\\\\lib\\\\site-packages\\\\jupyterthemes'"
      ]
     },
     "execution_count": 12,
     "metadata": {},
     "output_type": "execute_result"
    }
   ],
   "source": [
    "jt.package_dir"
   ]
  },
  {
   "cell_type": "code",
   "execution_count": null,
   "metadata": {},
   "outputs": [],
   "source": []
  }
 ],
 "metadata": {
  "kernelspec": {
   "display_name": "Python 3",
   "language": "python",
   "name": "python3"
  },
  "language_info": {
   "codemirror_mode": {
    "name": "ipython",
    "version": 3
   },
   "file_extension": ".py",
   "mimetype": "text/x-python",
   "name": "python",
   "nbconvert_exporter": "python",
   "pygments_lexer": "ipython3",
   "version": "3.6.4"
  }
 },
 "nbformat": 4,
 "nbformat_minor": 2
}
